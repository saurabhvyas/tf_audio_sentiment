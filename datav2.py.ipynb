{
 "cells": [
  {
   "cell_type": "code",
   "execution_count": 14,
   "metadata": {
    "collapsed": true
   },
   "outputs": [],
   "source": [
    "# use tf dataset api to load dataset \n",
    "# prior to this , use downloadv3.sh and post_download.sh\n",
    "\n",
    "\n",
    "# self notes\n",
    "# custom function must strictly pass numpy dtype as input and numpy dtype as output ( not tensors)"
   ]
  },
  {
   "cell_type": "code",
   "execution_count": 15,
   "metadata": {
    "collapsed": true
   },
   "outputs": [],
   "source": [
    "import tensorflow  as tf\n",
    "import numpy as np"
   ]
  },
  {
   "cell_type": "code",
   "execution_count": 3,
   "metadata": {
    "collapsed": true
   },
   "outputs": [],
   "source": [
    "import sys\n",
    "\n",
    "sys.path.insert(0, '/media/saurabh/New Volume/tf_audio_sentiment/pyAudioAnalysis')\n",
    "\n",
    "from  pyAudioAnalysis  import audioBasicIO\n",
    "from  pyAudioAnalysis import audioFeatureExtraction"
   ]
  },
  {
   "cell_type": "code",
   "execution_count": 4,
   "metadata": {
    "collapsed": true
   },
   "outputs": [],
   "source": [
    "timesteps=1000 # max timesteps\n",
    "data_base_directory='/media/saurabh/New Volume/tf_audio_sentiment/data_test/datav2/'"
   ]
  },
  {
   "cell_type": "code",
   "execution_count": 5,
   "metadata": {
    "collapsed": true
   },
   "outputs": [],
   "source": [
    "def audio_to_features(fileurl):\n",
    "    \n",
    "    [Fs, x] = audioBasicIO.readAudioFile(fileurl);\n",
    "    F = audioFeatureExtraction.stFeatureExtraction(x, Fs, 0.050*Fs, 0.025*Fs);\n",
    "    \n",
    "    a=F[:21,:]\n",
    "    b=F[33]\n",
    "\n",
    "    b=np.expand_dims(b, axis=0)\n",
    "\n",
    "    #print(b.shape)\n",
    "\n",
    "\n",
    "    d = np.concatenate( (a, b), axis=0)\n",
    "    #print(d.shape)\n",
    "    d = np.swapaxes(d, 0, 1)\n",
    "    return d"
   ]
  },
  {
   "cell_type": "code",
   "execution_count": 6,
   "metadata": {
    "collapsed": true
   },
   "outputs": [],
   "source": [
    "# define a function, that pads audio so that audio frames = max frames\n",
    "\n",
    "def pad(input):\n",
    "   # print(input.shape[0])\n",
    "     if input.shape[0] < timesteps:\n",
    "        \n",
    "        diff = timesteps - input.shape[0]\n",
    "        \n",
    "        # pad and return input\n",
    "        return np.pad(input,((0,diff),(0,0)), mode=\"constant\")\n",
    "    \n",
    "     elif input.shape[0] > timesteps:\n",
    "        \n",
    "        return input[:timesteps,:]"
   ]
  },
  {
   "cell_type": "code",
   "execution_count": 7,
   "metadata": {
    "collapsed": true
   },
   "outputs": [],
   "source": [
    "def process_function(input):\n",
    "  \n",
    "  \n",
    "\n",
    "  path=data_base_directory + str(input,'utf-8')\n",
    "  print(str(input,'utf-8'))\n",
    "\n",
    "  if 'A' in str(input,'utf-8'):\n",
    "        y=0\n",
    "  elif 'B'  in str(input,'utf-8'):\n",
    "        y=1\n",
    "\n",
    "  input=pad(audio_to_features(path))\n",
    "\n",
    "  \n",
    "    \n",
    "  return  input,y"
   ]
  },
  {
   "cell_type": "code",
   "execution_count": null,
   "metadata": {
    "collapsed": true
   },
   "outputs": [],
   "source": []
  },
  {
   "cell_type": "code",
   "execution_count": 8,
   "metadata": {
    "collapsed": true
   },
   "outputs": [],
   "source": [
    "logfilepath='/media/saurabh/New Volume/tf_audio_sentiment/data_test/dataset.txt'\n",
    "dataset = tf.contrib.data.TextLineDataset(logfilepath).shuffle(buffer_size=1000) #.map(map_function)\n",
    "\n",
    "dataset = dataset.map(\n",
    "    lambda filename: tuple(tf.py_func(\n",
    "        process_function, [filename],  [tf.double,tf.int64])))\n",
    "\n",
    "dataset=dataset.batch(3)\n"
   ]
  },
  {
   "cell_type": "code",
   "execution_count": 9,
   "metadata": {
    "collapsed": true
   },
   "outputs": [],
   "source": [
    "iterator = dataset.make_initializable_iterator()\n",
    "next_element = iterator.get_next()"
   ]
  },
  {
   "cell_type": "code",
   "execution_count": 13,
   "metadata": {},
   "outputs": [
    {
     "name": "stdout",
     "output_type": "stream",
     "text": [
      "21_22_48060A.wav\n",
      "21_15_40351B.wav\n",
      "21_10_48063B.wav\n",
      "[0 1 1]\n",
      "21_15_40222B.wav\n",
      "21_23_56066A.wav\n",
      "21_15_40150B.wav\n",
      "[1 0 1]\n",
      "21_15_40203B.wav\n",
      "21_10_48008B.wav\n",
      "21_15_40096B.wav\n",
      "[1 1 1]\n",
      "21_23_56022A.wav\n",
      "21_21_44013A.wav\n",
      "21_24_34042A.wav\n",
      "[0 0 0]\n",
      "21_15_40156B.wav\n",
      "21_10_48026B.wav\n",
      "21_15_40343B.wav\n",
      "[1 1 1]\n",
      "21_15_40133B.wav\n",
      "21_24_34040A.wav\n",
      "21_15_40186B.wav\n",
      "[1 0 1]\n",
      "21_10_48166B.wav\n",
      "21_15_40394B.wav\n",
      "21_22_48025A.wav\n",
      "[1 1 0]\n",
      "21_22_48057A.wav\n",
      "21_15_40377B.wav\n",
      "21_15_40341B.wav\n",
      "[0 1 1]\n",
      "21_10_48221B.wav\n",
      "21_10_48319B.wav\n",
      "21_24_34074A.wav\n",
      "[1 1 0]\n",
      "21_24_34011A.wav\n",
      "21_10_48255B.wav\n",
      "21_10_48067B.wav\n",
      "[0 1 1]\n",
      "21_10_48119B.wav\n",
      "21_10_48117B.wav\n",
      "21_15_40309B.wav\n",
      "[1 1 1]\n",
      "21_15_40243B.wav\n",
      "21_10_48179B.wav\n",
      "21_22_16019A.wav\n",
      "[1 1 0]\n",
      "21_10_48297B.wav\n",
      "21_15_40065B.wav\n",
      "21_15_40250B.wav\n",
      "[1 1 1]\n",
      "21_10_48288B.wav\n",
      "21_15_40347B.wav\n",
      "21_10_48150B.wav\n",
      "[1 1 1]\n",
      "21_10_48014B.wav\n",
      "21_10_48111B.wav\n",
      "21_15_40305B.wav\n",
      "[1 1 1]\n",
      "21_10_48122B.wav\n",
      "21_15_40358B.wav\n",
      "21_24_34063A.wav\n",
      "[1 1 0]\n",
      "21_22_48000A.wav\n",
      "21_15_40400B.wav\n",
      "21_15_40217B.wav\n",
      "[0 1 1]\n",
      "21_15_40134B.wav\n",
      "21_10_48130B.wav\n",
      "21_15_40371B.wav\n",
      "[1 1 1]\n",
      "21_10_48259B.wav\n",
      "21_10_48086B.wav\n",
      "21_22_48003A.wav\n",
      "[1 1 0]\n",
      "21_15_40128B.wav\n",
      "21_15_40268B.wav\n",
      "21_15_40108B.wav\n",
      "[1 1 1]\n",
      "21_15_40311B.wav\n",
      "21_22_48010A.wav\n",
      "21_22_48031A.wav\n",
      "[1 0 0]\n",
      "21_15_40216B.wav\n",
      "21_15_40099B.wav\n",
      "21_15_40380B.wav\n",
      "[1 1 1]\n",
      "21_15_40025B.wav\n",
      "21_10_48169B.wav\n",
      "21_15_40124B.wav\n",
      "[1 1 1]\n",
      "21_10_48220B.wav\n",
      "21_22_16026A.wav\n",
      "21_24_34075A.wav\n",
      "[1 0 0]\n",
      "21_10_48219B.wav\n",
      "21_22_16031A.wav\n",
      "21_10_48093B.wav\n",
      "[1 0 1]\n",
      "21_15_40295B.wav\n",
      "21_15_40396B.wav\n",
      "21_24_34093A.wav\n",
      "[1 1 0]\n",
      "21_15_40119B.wav\n",
      "21_22_16027A.wav\n",
      "21_23_56067A.wav\n",
      "[1 0 0]\n",
      "21_23_56010A.wav\n",
      "21_10_48172B.wav\n",
      "21_15_40319B.wav\n",
      "[0 1 1]\n",
      "21_24_34009A.wav\n",
      "21_15_40077B.wav\n",
      "21_15_40387B.wav\n",
      "[0 1 1]\n",
      "21_15_40286B.wav\n",
      "21_15_40113B.wav\n",
      "21_24_34020A.wav\n",
      "[1 1 0]\n",
      "21_24_34060A.wav\n",
      "21_10_48136B.wav\n",
      "21_10_48139B.wav\n",
      "[0 1 1]\n",
      "21_15_40318B.wav\n",
      "21_15_40144B.wav\n",
      "21_10_48044B.wav\n",
      "[1 1 1]\n",
      "21_10_48197B.wav\n",
      "21_24_34005A.wav\n",
      "21_24_34049A.wav\n",
      "[1 0 0]\n",
      "21_15_40167B.wav\n",
      "21_15_40142B.wav\n",
      "21_10_48016B.wav\n",
      "[1 1 1]\n",
      "21_15_40261B.wav\n",
      "21_15_40058B.wav\n",
      "21_10_48254B.wav\n",
      "[1 1 1]\n",
      "21_27_17013A.wav\n",
      "21_24_34044A.wav\n",
      "21_15_40178B.wav\n",
      "[0 0 1]\n",
      "21_10_48101B.wav\n",
      "21_10_48085B.wav\n",
      "21_15_40335B.wav\n",
      "[1 1 1]\n",
      "21_15_40252B.wav\n",
      "21_23_56007A.wav\n",
      "21_23_56008A.wav\n",
      "[1 0 0]\n",
      "21_15_40208B.wav\n",
      "21_23_56042A.wav\n",
      "21_21_44015A.wav\n",
      "[1 0 0]\n",
      "21_15_40379B.wav\n",
      "21_21_44017A.wav\n",
      "21_15_40304B.wav\n",
      "[1 0 1]\n",
      "21_27_17021A.wav\n",
      "21_27_17007A.wav\n",
      "21_24_34099A.wav\n",
      "[0 0 0]\n",
      "21_10_48318B.wav\n",
      "21_10_48121B.wav\n",
      "21_10_48022B.wav\n",
      "[1 1 1]\n",
      "21_10_48198B.wav\n",
      "21_15_40313B.wav\n",
      "21_15_40127B.wav\n"
     ]
    },
    {
     "ename": "KeyboardInterrupt",
     "evalue": "",
     "output_type": "error",
     "traceback": [
      "\u001b[0;31m---------------------------------------------------------------------------\u001b[0m",
      "\u001b[0;31mKeyboardInterrupt\u001b[0m                         Traceback (most recent call last)",
      "\u001b[0;32m<ipython-input-13-851568a698bd>\u001b[0m in \u001b[0;36m<module>\u001b[0;34m()\u001b[0m\n\u001b[1;32m      2\u001b[0m     \u001b[0msess\u001b[0m\u001b[0;34m.\u001b[0m\u001b[0mrun\u001b[0m\u001b[0;34m(\u001b[0m\u001b[0miterator\u001b[0m\u001b[0;34m.\u001b[0m\u001b[0minitializer\u001b[0m\u001b[0;34m)\u001b[0m\u001b[0;34m\u001b[0m\u001b[0m\n\u001b[1;32m      3\u001b[0m     \u001b[0;32mfor\u001b[0m \u001b[0mi\u001b[0m \u001b[0;32min\u001b[0m \u001b[0mrange\u001b[0m\u001b[0;34m(\u001b[0m\u001b[0;36m1000\u001b[0m\u001b[0;34m)\u001b[0m\u001b[0;34m:\u001b[0m\u001b[0;34m\u001b[0m\u001b[0m\n\u001b[0;32m----> 4\u001b[0;31m       \u001b[0mvalue\u001b[0m \u001b[0;34m=\u001b[0m \u001b[0msess\u001b[0m\u001b[0;34m.\u001b[0m\u001b[0mrun\u001b[0m\u001b[0;34m(\u001b[0m\u001b[0mnext_element\u001b[0m\u001b[0;34m[\u001b[0m\u001b[0;36m1\u001b[0m\u001b[0;34m]\u001b[0m\u001b[0;34m)\u001b[0m\u001b[0;34m\u001b[0m\u001b[0m\n\u001b[0m\u001b[1;32m      5\u001b[0m       \u001b[0mprint\u001b[0m\u001b[0;34m(\u001b[0m\u001b[0mvalue\u001b[0m\u001b[0;34m)\u001b[0m\u001b[0;34m\u001b[0m\u001b[0m\n",
      "\u001b[0;32m/home/saurabh/anaconda3/lib/python3.6/site-packages/tensorflow/python/client/session.py\u001b[0m in \u001b[0;36mrun\u001b[0;34m(self, fetches, feed_dict, options, run_metadata)\u001b[0m\n\u001b[1;32m    893\u001b[0m     \u001b[0;32mtry\u001b[0m\u001b[0;34m:\u001b[0m\u001b[0;34m\u001b[0m\u001b[0m\n\u001b[1;32m    894\u001b[0m       result = self._run(None, fetches, feed_dict, options_ptr,\n\u001b[0;32m--> 895\u001b[0;31m                          run_metadata_ptr)\n\u001b[0m\u001b[1;32m    896\u001b[0m       \u001b[0;32mif\u001b[0m \u001b[0mrun_metadata\u001b[0m\u001b[0;34m:\u001b[0m\u001b[0;34m\u001b[0m\u001b[0m\n\u001b[1;32m    897\u001b[0m         \u001b[0mproto_data\u001b[0m \u001b[0;34m=\u001b[0m \u001b[0mtf_session\u001b[0m\u001b[0;34m.\u001b[0m\u001b[0mTF_GetBuffer\u001b[0m\u001b[0;34m(\u001b[0m\u001b[0mrun_metadata_ptr\u001b[0m\u001b[0;34m)\u001b[0m\u001b[0;34m\u001b[0m\u001b[0m\n",
      "\u001b[0;32m/home/saurabh/anaconda3/lib/python3.6/site-packages/tensorflow/python/client/session.py\u001b[0m in \u001b[0;36m_run\u001b[0;34m(self, handle, fetches, feed_dict, options, run_metadata)\u001b[0m\n\u001b[1;32m   1122\u001b[0m     \u001b[0;32mif\u001b[0m \u001b[0mfinal_fetches\u001b[0m \u001b[0;32mor\u001b[0m \u001b[0mfinal_targets\u001b[0m \u001b[0;32mor\u001b[0m \u001b[0;34m(\u001b[0m\u001b[0mhandle\u001b[0m \u001b[0;32mand\u001b[0m \u001b[0mfeed_dict_tensor\u001b[0m\u001b[0;34m)\u001b[0m\u001b[0;34m:\u001b[0m\u001b[0;34m\u001b[0m\u001b[0m\n\u001b[1;32m   1123\u001b[0m       results = self._do_run(handle, final_targets, final_fetches,\n\u001b[0;32m-> 1124\u001b[0;31m                              feed_dict_tensor, options, run_metadata)\n\u001b[0m\u001b[1;32m   1125\u001b[0m     \u001b[0;32melse\u001b[0m\u001b[0;34m:\u001b[0m\u001b[0;34m\u001b[0m\u001b[0m\n\u001b[1;32m   1126\u001b[0m       \u001b[0mresults\u001b[0m \u001b[0;34m=\u001b[0m \u001b[0;34m[\u001b[0m\u001b[0;34m]\u001b[0m\u001b[0;34m\u001b[0m\u001b[0m\n",
      "\u001b[0;32m/home/saurabh/anaconda3/lib/python3.6/site-packages/tensorflow/python/client/session.py\u001b[0m in \u001b[0;36m_do_run\u001b[0;34m(self, handle, target_list, fetch_list, feed_dict, options, run_metadata)\u001b[0m\n\u001b[1;32m   1319\u001b[0m     \u001b[0;32mif\u001b[0m \u001b[0mhandle\u001b[0m \u001b[0;32mis\u001b[0m \u001b[0;32mNone\u001b[0m\u001b[0;34m:\u001b[0m\u001b[0;34m\u001b[0m\u001b[0m\n\u001b[1;32m   1320\u001b[0m       return self._do_call(_run_fn, self._session, feeds, fetches, targets,\n\u001b[0;32m-> 1321\u001b[0;31m                            options, run_metadata)\n\u001b[0m\u001b[1;32m   1322\u001b[0m     \u001b[0;32melse\u001b[0m\u001b[0;34m:\u001b[0m\u001b[0;34m\u001b[0m\u001b[0m\n\u001b[1;32m   1323\u001b[0m       \u001b[0;32mreturn\u001b[0m \u001b[0mself\u001b[0m\u001b[0;34m.\u001b[0m\u001b[0m_do_call\u001b[0m\u001b[0;34m(\u001b[0m\u001b[0m_prun_fn\u001b[0m\u001b[0;34m,\u001b[0m \u001b[0mself\u001b[0m\u001b[0;34m.\u001b[0m\u001b[0m_session\u001b[0m\u001b[0;34m,\u001b[0m \u001b[0mhandle\u001b[0m\u001b[0;34m,\u001b[0m \u001b[0mfeeds\u001b[0m\u001b[0;34m,\u001b[0m \u001b[0mfetches\u001b[0m\u001b[0;34m)\u001b[0m\u001b[0;34m\u001b[0m\u001b[0m\n",
      "\u001b[0;32m/home/saurabh/anaconda3/lib/python3.6/site-packages/tensorflow/python/client/session.py\u001b[0m in \u001b[0;36m_do_call\u001b[0;34m(self, fn, *args)\u001b[0m\n\u001b[1;32m   1325\u001b[0m   \u001b[0;32mdef\u001b[0m \u001b[0m_do_call\u001b[0m\u001b[0;34m(\u001b[0m\u001b[0mself\u001b[0m\u001b[0;34m,\u001b[0m \u001b[0mfn\u001b[0m\u001b[0;34m,\u001b[0m \u001b[0;34m*\u001b[0m\u001b[0margs\u001b[0m\u001b[0;34m)\u001b[0m\u001b[0;34m:\u001b[0m\u001b[0;34m\u001b[0m\u001b[0m\n\u001b[1;32m   1326\u001b[0m     \u001b[0;32mtry\u001b[0m\u001b[0;34m:\u001b[0m\u001b[0;34m\u001b[0m\u001b[0m\n\u001b[0;32m-> 1327\u001b[0;31m       \u001b[0;32mreturn\u001b[0m \u001b[0mfn\u001b[0m\u001b[0;34m(\u001b[0m\u001b[0;34m*\u001b[0m\u001b[0margs\u001b[0m\u001b[0;34m)\u001b[0m\u001b[0;34m\u001b[0m\u001b[0m\n\u001b[0m\u001b[1;32m   1328\u001b[0m     \u001b[0;32mexcept\u001b[0m \u001b[0merrors\u001b[0m\u001b[0;34m.\u001b[0m\u001b[0mOpError\u001b[0m \u001b[0;32mas\u001b[0m \u001b[0me\u001b[0m\u001b[0;34m:\u001b[0m\u001b[0;34m\u001b[0m\u001b[0m\n\u001b[1;32m   1329\u001b[0m       \u001b[0mmessage\u001b[0m \u001b[0;34m=\u001b[0m \u001b[0mcompat\u001b[0m\u001b[0;34m.\u001b[0m\u001b[0mas_text\u001b[0m\u001b[0;34m(\u001b[0m\u001b[0me\u001b[0m\u001b[0;34m.\u001b[0m\u001b[0mmessage\u001b[0m\u001b[0;34m)\u001b[0m\u001b[0;34m\u001b[0m\u001b[0m\n",
      "\u001b[0;32m/home/saurabh/anaconda3/lib/python3.6/site-packages/tensorflow/python/client/session.py\u001b[0m in \u001b[0;36m_run_fn\u001b[0;34m(session, feed_dict, fetch_list, target_list, options, run_metadata)\u001b[0m\n\u001b[1;32m   1304\u001b[0m           return tf_session.TF_Run(session, options,\n\u001b[1;32m   1305\u001b[0m                                    \u001b[0mfeed_dict\u001b[0m\u001b[0;34m,\u001b[0m \u001b[0mfetch_list\u001b[0m\u001b[0;34m,\u001b[0m \u001b[0mtarget_list\u001b[0m\u001b[0;34m,\u001b[0m\u001b[0;34m\u001b[0m\u001b[0m\n\u001b[0;32m-> 1306\u001b[0;31m                                    status, run_metadata)\n\u001b[0m\u001b[1;32m   1307\u001b[0m \u001b[0;34m\u001b[0m\u001b[0m\n\u001b[1;32m   1308\u001b[0m     \u001b[0;32mdef\u001b[0m \u001b[0m_prun_fn\u001b[0m\u001b[0;34m(\u001b[0m\u001b[0msession\u001b[0m\u001b[0;34m,\u001b[0m \u001b[0mhandle\u001b[0m\u001b[0;34m,\u001b[0m \u001b[0mfeed_dict\u001b[0m\u001b[0;34m,\u001b[0m \u001b[0mfetch_list\u001b[0m\u001b[0;34m)\u001b[0m\u001b[0;34m:\u001b[0m\u001b[0;34m\u001b[0m\u001b[0m\n",
      "\u001b[0;31mKeyboardInterrupt\u001b[0m: "
     ]
    }
   ],
   "source": [
    "#with tf.Session() as sess:\n",
    " #   sess.run(iterator.initializer)\n",
    "  #  for i in range(1000):\n",
    "   #   value = sess.run(next_element[1])\n",
    "    #  print(value)"
   ]
  },
  {
   "cell_type": "code",
   "execution_count": null,
   "metadata": {
    "collapsed": true
   },
   "outputs": [],
   "source": []
  },
  {
   "cell_type": "code",
   "execution_count": null,
   "metadata": {
    "collapsed": true
   },
   "outputs": [],
   "source": []
  }
 ],
 "metadata": {
  "kernelspec": {
   "display_name": "Python [default]",
   "language": "python",
   "name": "python3"
  },
  "language_info": {
   "codemirror_mode": {
    "name": "ipython",
    "version": 3
   },
   "file_extension": ".py",
   "mimetype": "text/x-python",
   "name": "python",
   "nbconvert_exporter": "python",
   "pygments_lexer": "ipython3",
   "version": "3.6.1"
  }
 },
 "nbformat": 4,
 "nbformat_minor": 2
}
