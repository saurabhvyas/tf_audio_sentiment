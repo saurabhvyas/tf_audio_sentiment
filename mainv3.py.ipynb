{
 "cells": [
  {
   "cell_type": "code",
   "execution_count": 1,
   "metadata": {
    "collapsed": true
   },
   "outputs": [],
   "source": [
    "# notes : the model should be robust for both male and female speakers , and all age groups\n",
    "# strategy 1 : fit a simple binary logistic model\n",
    "\n",
    "\n",
    "# To do \n",
    "\n",
    "# create dataset \n",
    "# use youtube-dl to download audio, use sox to convert audio to 16k mono format \n",
    "# download robust audio samples\n",
    "\n",
    "# create tensorflow model\n",
    "\n",
    "# create json dataset file , and dataloader\n",
    "\n",
    "\n",
    "# ________________________________________________________\n",
    "\n",
    "# ideas \n",
    "\n",
    "# use MFCC, total energy and F0\n",
    "\n"
   ]
  },
  {
   "cell_type": "code",
   "execution_count": 1,
   "metadata": {
    "collapsed": true
   },
   "outputs": [],
   "source": [
    "import tensorflow as tf\n",
    "from python_speech_features import mfcc\n",
    "from python_speech_features import delta\n",
    "from python_speech_features import logfbank\n",
    "import scipy.io.wavfile as wav\n",
    "import numpy as np\n",
    "import os\n",
    "\n",
    "directory_path='/media/saurabh/New Volume/tf_audio_sentiment/data/'\n",
    "directory = os.fsencode(directory_path)"
   ]
  },
  {
   "cell_type": "code",
   "execution_count": 2,
   "metadata": {
    "collapsed": true
   },
   "outputs": [],
   "source": [
    "def audio_to_mfcc(fileurl):\n",
    "    rate, sig = wav.read(fileurl)\n",
    "    mfcc_feat = mfcc(sig,rate)\n",
    "#d_mfcc_feat = delta(mfcc_feat, 2)\n",
    "#fbank_feat = logfbank(sig,rate)\n",
    "\n",
    "    return mfcc_feat"
   ]
  },
  {
   "cell_type": "code",
   "execution_count": null,
   "metadata": {
    "collapsed": true
   },
   "outputs": [],
   "source": [
    "\n",
    "        "
   ]
  },
  {
   "cell_type": "code",
   "execution_count": 19,
   "metadata": {
    "collapsed": true
   },
   "outputs": [],
   "source": [
    "# Parameters\n",
    "learning_rate = 0.01\n",
    "training_epochs = 25\n",
    "batch_size = 1\n",
    "display_step = 1"
   ]
  },
  {
   "cell_type": "code",
   "execution_count": 42,
   "metadata": {
    "collapsed": true
   },
   "outputs": [],
   "source": [
    "max_frames=2000\n",
    "\n",
    "x = tf.placeholder(tf.float32, [None, 26000]) # mnist data image of shape max_frames*13\n",
    "y = tf.placeholder(tf.float32, [None, 2]) # Happy or Sad => 2 classes"
   ]
  },
  {
   "cell_type": "code",
   "execution_count": 43,
   "metadata": {
    "collapsed": true
   },
   "outputs": [],
   "source": [
    "# define a function, that pads audio so that audio frames = max frames\n",
    "\n",
    "def pad(input):\n",
    "   # print(input.shape[0])\n",
    "     if input.shape[0] < max_frames:\n",
    "        \n",
    "        diff = max_frames - input.shape[0]\n",
    "        \n",
    "        # pad and return input\n",
    "        return np.pad(input,((0,diff),(0,0)), mode=\"constant\")\n",
    "    \n",
    "     else:\n",
    "        \n",
    "        return input\n",
    "        "
   ]
  },
  {
   "cell_type": "code",
   "execution_count": 34,
   "metadata": {
    "collapsed": true
   },
   "outputs": [],
   "source": [
    "# Set model weights\n",
    "W = tf.Variable(tf.zeros([26000, 2]))\n",
    "b = tf.Variable(tf.zeros([2]))\n",
    "\n",
    "# Construct model\n",
    "pred = tf.nn.softmax(tf.matmul(x, W) + b) # Softmax"
   ]
  },
  {
   "cell_type": "code",
   "execution_count": 7,
   "metadata": {
    "collapsed": true
   },
   "outputs": [],
   "source": [
    "# Minimize error using cross entropy\n",
    "cost = tf.reduce_mean(-tf.reduce_sum(y*tf.log(pred), reduction_indices=1))\n",
    "# Gradient Descent\n",
    "optimizer = tf.train.GradientDescentOptimizer(learning_rate).minimize(cost)\n",
    "\n",
    "# Initialize the variables (i.e. assign their default value)\n",
    "init = tf.global_variables_initializer()"
   ]
  },
  {
   "cell_type": "code",
   "execution_count": 57,
   "metadata": {},
   "outputs": [
    {
     "ename": "NameError",
     "evalue": "name 'init' is not defined",
     "output_type": "error",
     "traceback": [
      "\u001b[0;31m---------------------------------------------------------------------------\u001b[0m",
      "\u001b[0;31mNameError\u001b[0m                                 Traceback (most recent call last)",
      "\u001b[0;32m<ipython-input-57-ce3c904822f7>\u001b[0m in \u001b[0;36m<module>\u001b[0;34m()\u001b[0m\n\u001b[1;32m      1\u001b[0m \u001b[0;31m# Start training\u001b[0m\u001b[0;34m\u001b[0m\u001b[0;34m\u001b[0m\u001b[0m\n\u001b[1;32m      2\u001b[0m \u001b[0;32mwith\u001b[0m \u001b[0mtf\u001b[0m\u001b[0;34m.\u001b[0m\u001b[0mSession\u001b[0m\u001b[0;34m(\u001b[0m\u001b[0;34m)\u001b[0m \u001b[0;32mas\u001b[0m \u001b[0msess\u001b[0m\u001b[0;34m:\u001b[0m\u001b[0;34m\u001b[0m\u001b[0m\n\u001b[0;32m----> 3\u001b[0;31m     \u001b[0msess\u001b[0m\u001b[0;34m.\u001b[0m\u001b[0mrun\u001b[0m\u001b[0;34m(\u001b[0m\u001b[0minit\u001b[0m\u001b[0;34m)\u001b[0m\u001b[0;34m\u001b[0m\u001b[0m\n\u001b[0m\u001b[1;32m      4\u001b[0m \u001b[0;34m\u001b[0m\u001b[0m\n\u001b[1;32m      5\u001b[0m     \u001b[0;31m# Training cycle\u001b[0m\u001b[0;34m\u001b[0m\u001b[0;34m\u001b[0m\u001b[0m\n",
      "\u001b[0;31mNameError\u001b[0m: name 'init' is not defined"
     ]
    }
   ],
   "source": [
    "# Start training\n",
    "with tf.Session() as sess:\n",
    "    sess.run(init)\n",
    "\n",
    "    # Training cycle\n",
    "    for epoch in range(training_epochs):\n",
    "        avg_cost = 0.\n",
    "        \n",
    "        \n",
    "         # Loop over all files\n",
    "        for file in os.listdir(directory):\n",
    "            filename = os.fsdecode(file)\n",
    "            if filename.endswith(\".wav\"): \n",
    "                 print(filename)\n",
    "                 accoustic_features=pad(audio_to_mfcc(directory_path + filename))\n",
    "                 # pad(accoustic_features)\n",
    "                 print(accoustic_features.shape)\n",
    "                 txt_file=filename.replace('.wav','.txt')\n",
    "                 with open(directory_path + txt_file, 'r') as myfile:\n",
    "                    data=myfile.read().replace('\\n', '')\n",
    "                    y=tf.one_hot(int(data), 2)\n",
    "                    print(y)\n",
    "            \n",
    "                    # Fit training using single example data\n",
    "                    _, c = sess.run([optimizer, cost], feed_dict={x: accoustic_features,\n",
    "                                                          y: y})\n",
    "                    # Compute average loss\n",
    "                    avg_cost += c / total_batch\n",
    "            \n",
    "            \n",
    "        \n",
    "                 continue\n",
    "            else:\n",
    "                continue\n",
    "        \n",
    "        \n",
    "     \n",
    "            \n",
    "           \n",
    "        # Display logs per epoch step\n",
    "        if (epoch+1) % display_step == 0:\n",
    "            print (\"Epoch:\", '%04d' % (epoch+1), \"cost=\", \"{:.9f}\".format(avg_cost))\n",
    "\n",
    "    print (\"Optimization Finished!\")\n",
    "\n",
    "    # Test model\n",
    " #   correct_prediction = tf.equal(tf.argmax(pred, 1), tf.argmax(y, 1))\n",
    "    # Calculate accuracy for 3000 examples\n",
    "  #  accuracy = tf.reduce_mean(tf.cast(correct_prediction, tf.float32))\n",
    "  #  print \"Accuracy:\", accuracy.eval({x: mnist.test.images[:3000], y: mnist.test.labels[:3000]})"
   ]
  },
  {
   "cell_type": "code",
   "execution_count": 44,
   "metadata": {},
   "outputs": [
    {
     "name": "stdout",
     "output_type": "stream",
     "text": [
      "boy.wav\n",
      "(2000, 13)\n",
      "Tensor(\"one_hot_14:0\", shape=(2,), dtype=float32)\n",
      "lizzie.wav\n",
      "(2000, 13)\n",
      "Tensor(\"one_hot_15:0\", shape=(2,), dtype=float32)\n"
     ]
    }
   ],
   "source": [
    "# create a code snippet, that iterates through whole dataset \n",
    "# dataset template, in data folder, there is abc.wav, and abc.txt , containing either 0 or 1 \n",
    "# let 0 be sad, and 1 be happy\n",
    "\n",
    "\n",
    "for file in os.listdir(directory):\n",
    "    filename = os.fsdecode(file)\n",
    "    if filename.endswith(\".wav\"): \n",
    "         print(filename)\n",
    "         accoustic_features=pad(audio_to_mfcc(directory_path + filename))\n",
    "        # pad(accoustic_features)\n",
    "         print(accoustic_features.shape)\n",
    "         txt_file=filename.replace('.wav','.txt')\n",
    "         with open(directory_path + txt_file, 'r') as myfile:\n",
    "            data=myfile.read().replace('\\n', '')\n",
    "            print(tf.one_hot(int(data), 2))\n",
    "    \n",
    "         continue\n",
    "    else:\n",
    "        continue"
   ]
  },
  {
   "cell_type": "code",
   "execution_count": 5,
   "metadata": {},
   "outputs": [
    {
     "name": "stdout",
     "output_type": "stream",
     "text": [
      "(13045, 13)\n"
     ]
    }
   ],
   "source": [
    "# this snippet is just for testing purposes \n",
    "# ignore it\n",
    "\n",
    "accoustic_features=audio_to_mfcc( \"/media/saurabh/New Volume/tf_audio_sentiment/data_test/data/1/What It’s Like To Feel Lonely.wav\")\n",
    "\n",
    "#new_features = pad(accoustic_features)\n",
    "\n",
    "print(accoustic_features.shape)\n",
    "\n"
   ]
  },
  {
   "cell_type": "code",
   "execution_count": null,
   "metadata": {
    "collapsed": true
   },
   "outputs": [],
   "source": []
  }
 ],
 "metadata": {
  "kernelspec": {
   "display_name": "Python [default]",
   "language": "python",
   "name": "python3"
  },
  "language_info": {
   "codemirror_mode": {
    "name": "ipython",
    "version": 3
   },
   "file_extension": ".py",
   "mimetype": "text/x-python",
   "name": "python",
   "nbconvert_exporter": "python",
   "pygments_lexer": "ipython3",
   "version": "3.6.1"
  }
 },
 "nbformat": 4,
 "nbformat_minor": 2
}
